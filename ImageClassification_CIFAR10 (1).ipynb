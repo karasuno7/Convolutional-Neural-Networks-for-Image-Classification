{
 "cells": [
  {
   "cell_type": "markdown",
   "metadata": {
    "collapsed": true
   },
   "source": [
    "# Project : Building an Image Classifier\n",
    "### Aditi Tripathi, 2017\n",
    "\n",
    "\n",
    "\n",
    "## Step1: Load the Data\n",
    "This notebook contains an upgraded implementation of LeNet architecture to train a convolutional neural net to detect and classify images from CIFAR-10 Dataset. The CNN is implemented using TensorFlow. The images used are from [CIFAR-10 dataset for python](https://www.cs.toronto.edu/~kriz/cifar-10-python.tar.gz)."
   ]
  },
  {
   "cell_type": "code",
   "execution_count": 1,
   "metadata": {},
   "outputs": [
    {
     "name": "stderr",
     "output_type": "stream",
     "text": [
      "CIFAR-10 Dataset: 171MB [00:20, 8.31MB/s]                              \n"
     ]
    },
    {
     "name": "stdout",
     "output_type": "stream",
     "text": [
      "All files found!\n"
     ]
    }
   ],
   "source": [
    "from urllib.request import urlretrieve\n",
    "from os.path import isfile, isdir\n",
    "from tqdm import tqdm\n",
    "import problem_unittests as tests\n",
    "import tarfile\n",
    "\n",
    "cifar10_dataset_folder_path = 'cifar-10-batches-py'\n",
    "\n",
    "# We can use Floyd's cifar-10 dataset if present\n",
    "floyd_cifar10_location = '/input/cifar-10/python.tar.gz'\n",
    "if isfile(floyd_cifar10_location):\n",
    "    tar_gz_path = floyd_cifar10_location\n",
    "else:\n",
    "    tar_gz_path = 'cifar-10-python.tar.gz'\n",
    "\n",
    "class DLProgress(tqdm):\n",
    "    last_block = 0\n",
    "\n",
    "    def hook(self, block_num=1, block_size=1, total_size=None):\n",
    "        self.total = total_size\n",
    "        self.update((block_num - self.last_block) * block_size)\n",
    "        self.last_block = block_num\n",
    "\n",
    "if not isfile(tar_gz_path):\n",
    "    with DLProgress(unit='B', unit_scale=True, miniters=1, desc='CIFAR-10 Dataset') as pbar:\n",
    "        urlretrieve(\n",
    "            'https://www.cs.toronto.edu/~kriz/cifar-10-python.tar.gz',\n",
    "            tar_gz_path,\n",
    "            pbar.hook)\n",
    "\n",
    "if not isdir(cifar10_dataset_folder_path):\n",
    "    with tarfile.open(tar_gz_path) as tar:\n",
    "        tar.extractall()\n",
    "        tar.close()\n",
    "\n",
    "\n",
    "tests.test_folder_path(cifar10_dataset_folder_path)"
   ]
  },
  {
   "cell_type": "markdown",
   "metadata": {},
   "source": [
    "## Dataset Summary and Exploration\n",
    "The dataset is broken into batches to prevent the machine from running out of memory.  The CIFAR-10 dataset consists of 5 batches, named `data_batch_1`, `data_batch_2`, etc.. Each batch contains the labels and images that are one of the following:\n",
    "* airplane\n",
    "* automobile\n",
    "* bird\n",
    "* cat\n",
    "* deer\n",
    "* dog\n",
    "* frog\n",
    "* horse\n",
    "* ship\n",
    "* truck\n",
    "\n",
    "## Visualization\n",
    "The `batch_id` is the id for a batch (1-5) given below. The `sample_id` is the id for a image and label pair in the batch.\n"
   ]
  },
  {
   "cell_type": "code",
   "execution_count": 2,
   "metadata": {},
   "outputs": [
    {
     "name": "stdout",
     "output_type": "stream",
     "text": [
      "\n",
      "Stats of batch 1:\n",
      "Samples: 10000\n",
      "Label Counts: {0: 1005, 1: 974, 2: 1032, 3: 1016, 4: 999, 5: 937, 6: 1030, 7: 1001, 8: 1025, 9: 981}\n",
      "First 20 Labels: [6, 9, 9, 4, 1, 1, 2, 7, 8, 3, 4, 7, 7, 2, 9, 9, 9, 3, 2, 6]\n",
      "\n",
      "Example of Image 5:\n",
      "Image - Min Value: 0 Max Value: 252\n",
      "Image - Shape: (32, 32, 3)\n",
      "Label - Label Id: 1 Name: automobile\n"
     ]
    },
    {
     "data": {
      "image/png": "[encoded data removed]",
      "text/plain": [
       "<matplotlib.figure.Figure at 0x7fac77ae7ba8>"
      ]
     },
     "metadata": {
      "image/png": {
       "height": 250,
       "width": 253
      }
     },
     "output_type": "display_data"
    }
   ],
   "source": [
    "%matplotlib inline\n",
    "%config InlineBackend.figure_format = 'retina'\n",
    "\n",
    "import helper\n",
    "import numpy as np\n",
    "\n",
    "# Explore the dataset\n",
    "batch_id = 1\n",
    "sample_id = 5\n",
    "helper.display_stats(cifar10_dataset_folder_path, batch_id, sample_id)"
   ]
  },
  {
   "cell_type": "markdown",
   "metadata": {},
   "source": [
    "## Implementing Preprocess Functions\n",
    "### Normalization\n",
    "Normalization is an important part of pre-processing data so that everything is on a relative scale. For RGB images, pixel values range from 0 to 255 and are thus already normalized. However, we can apply further normalization to scale the values from 0 to 1 or -1 to 1. When possible, it's best to avoid large numbers because smaller numbers are both faster and more computationally stable."
   ]
  },
  {
   "cell_type": "code",
   "execution_count": 4,
   "metadata": {},
   "outputs": [
    {
     "name": "stdout",
     "output_type": "stream",
     "text": [
      "Tests Passed\n"
     ]
    }
   ],
   "source": [
    "def normalize(x):\n",
    "    \"\"\"\n",
    "    Normalizing a list of sample image data in the range of 0 to 1\n",
    "    : x: List of image data.  The image shape is (32, 32, 3)\n",
    "    : return: Numpy array of normalize data\n",
    "    \"\"\"\n",
    "    # TODO: Implement Function\n",
    "    array = np.array(x)/255\n",
    "    #print(array)\n",
    "    return(array)\n",
    "\n",
    "\n",
    "\n",
    "tests.test_normalize(normalize)"
   ]
  },
  {
   "cell_type": "markdown",
   "metadata": {},
   "source": [
    "### One-hot encoding\n",
    "It is a way of representing the labels mathemtically. It is a vector as long as there are number of classes. In the vector, the correct label takes up the value '1' while rest all take '0' value."
   ]
  },
  {
   "cell_type": "code",
   "execution_count": 31,
   "metadata": {},
   "outputs": [
    {
     "name": "stdout",
     "output_type": "stream",
     "text": [
      "Tests Passed\n"
     ]
    }
   ],
   "source": [
    "def one_hot_encode(x):\n",
    "    \"\"\"\n",
    "    One hot encode a list of sample labels. Returns a one-hot encoded vector for each label.\n",
    "    : x: List of sample Labels\n",
    "    : return: Numpy array of one-hot encoded labels\n",
    "    \"\"\"\n",
    "    # TODO: Implement Function\n",
    " \n",
    "   # a = set(x)\n",
    "   # print(a)\n",
    "    l=len(x)\n",
    "    one_hot = np.zeros(shape=[l,10])\n",
    "   # print(one_hot)\n",
    "    \n",
    "    for i in range(l):\n",
    "       # print(i)\n",
    "        one_hot[i,x[i]] = 1\n",
    "        #print(one_hot[i,:])\n",
    "        \n",
    "    return(one_hot)\n",
    "\n",
    "\n",
    "tests.test_one_hot_encode(one_hot_encode)"
   ]
  },
  {
   "cell_type": "markdown",
   "metadata": {},
   "source": [
    "### Preprocessing all the data and saving it\n",
    "Running the code cell below preprocesses all the CIFAR-10 data and saves it to file. The code below uses 10% of the training data for validation."
   ]
  },
  {
   "cell_type": "code",
   "execution_count": 32,
   "metadata": {
    "collapsed": true
   },
   "outputs": [],
   "source": [
    "# Preprocess Training, Validation, and Testing Data\n",
    "helper.preprocess_and_save_data(cifar10_dataset_folder_path, normalize, one_hot_encode)"
   ]
  },
  {
   "cell_type": "markdown",
   "metadata": {},
   "source": [
    "# First Check Point\n",
    "The preprocessed data has been saved to disk."
   ]
  },
  {
   "cell_type": "code",
   "execution_count": 33,
   "metadata": {
    "collapsed": true
   },
   "outputs": [],
   "source": [
    "import pickle\n",
    "import problem_unittests as tests\n",
    "import helper\n",
    "\n",
    "# Load the Preprocessed Validation data\n",
    "valid_features, valid_labels = pickle.load(open('preprocess_validation.p', mode='rb'))"
   ]
  },
  {
   "cell_type": "markdown",
   "metadata": {},
   "source": [
    "## Building the network\n",
    "For the neural network, I've build each layer into a function.Instead of using the TF Layers version of the `conv2d` class, [tf.layers.conv2d](https://www.tensorflow.org/api_docs/python/tf/layers/conv2d), I would be using the TF Neural Network version of `conv2d`, [tf.nn.conv2d](https://www.tensorflow.org/api_docs/python/tf/nn/conv2d). \n",
    "\n",
    "Let's begin!\n",
    "\n",
    "### Input\n",
    "The neural network needs to read the image data, one-hot encoded labels, and dropout keep probability.The following steps will be implemented for the same:\n",
    "* `neural_net_image_input`\n",
    " * Return a [TF Placeholder](https://www.tensorflow.org/api_docs/python/tf/placeholder)\n",
    " * Set the shape using `image_shape` with batch size set to `None`.\n",
    " * Name the TensorFlow placeholder \"x\" using the TensorFlow `name` parameter in the [TF Placeholder](https://www.tensorflow.org/api_docs/python/tf/placeholder).\n",
    "* `neural_net_label_input`\n",
    " * Return a [TF Placeholder](https://www.tensorflow.org/api_docs/python/tf/placeholder)\n",
    " * Set the shape using `n_classes` with batch size set to `None`.\n",
    " * Name the TensorFlow placeholder \"y\" using the TensorFlow `name` parameter in the [TF Placeholder](https://www.tensorflow.org/api_docs/python/tf/placeholder).\n",
    "* `neural_net_keep_prob_input`\n",
    " * Return a [TF Placeholder](https://www.tensorflow.org/api_docs/python/tf/placeholder) for dropout keep probability.\n",
    " * Name the TensorFlow placeholder \"keep_prob\" using the TensorFlow `name` parameter in the [TF Placeholder](https://www.tensorflow.org/api_docs/python/tf/placeholder).\n",
    "\n",
    "These names will be used at the end of the project to load the saved model.\n",
    "\n",
    "Note: `None` for shapes in TensorFlow allow for a dynamic size."
   ]
  },
  {
   "cell_type": "code",
   "execution_count": 34,
   "metadata": {},
   "outputs": [
    {
     "name": "stdout",
     "output_type": "stream",
     "text": [
      "Image Input Tests Passed.\n",
      "Label Input Tests Passed.\n",
      "Keep Prob Tests Passed.\n"
     ]
    }
   ],
   "source": [
    "import tensorflow as tf\n",
    "\n",
    "def neural_net_image_input(image_shape):\n",
    "   \n",
    "    # TODO: Implement Function\n",
    "    input_image = tf.placeholder(tf.float32, shape =[None, image_shape[0],image_shape[1],image_shape[2]], name='x')\n",
    "    return (input_image)\n",
    "\n",
    "\n",
    "def neural_net_label_input(n_classes):\n",
    "  \n",
    "    # TODO: Implement Function\n",
    "    label = tf.placeholder(tf.float32, shape=[None, n_classes], name= \"y\")\n",
    "    return (label)\n",
    "\n",
    "\n",
    "def neural_net_keep_prob_input():\n",
    "   \n",
    "    # TODO: Implement Function\n",
    "    keep_prob = tf.placeholder(tf.float32,name=\"keep_prob\")\n",
    "    return (keep_prob)\n",
    "\n",
    "\n",
    "tf.reset_default_graph()\n",
    "tests.test_nn_image_inputs(neural_net_image_input)\n",
    "tests.test_nn_label_inputs(neural_net_label_input)\n",
    "tests.test_nn_keep_prob_inputs(neural_net_keep_prob_input)"
   ]
  },
  {
   "cell_type": "markdown",
   "metadata": {},
   "source": [
    "## Convolutional Neural Network Architecture\n",
    "The architecture used in this CNN is extremely similiar to the LeNet architecture that was implemented in the Udacity LeNet lab. A difference between the original LeNet architecture from 1989 and the one provided, is that a max pooling function has been applied rather than Yann LeCun's original subsampling function.\n",
    "\n",
    "In addition, I added two additional processes to the function to help combat overfitting. The first is applying dropout. Dropout applies a Bernoulli distribution to activations (i.e. the values being passed) during the feed-forward phase - essentially zeroing values randomly by $p$, where $p$ is the probabilty the activation will be passed forward successfully. By applying dropout, the network is forced to confirm the values it produces again and again, so that anything that persists is a very generalized signal and not \"training-sample-specific\" noise.\n",
    "During training, I set $p = 0.5$, which I believe is rather high/aggressive, but I felt that there was ample amount of training data and I also used 150 epochs to ensure enough feed-forward phases that the high dropout would not dramatically alter my logits. During evaluation of the test samples, the dropout keep rate\n",
    "\n",
    "Lastly, I applied L2 regularization to my Cross Entropy error when updating my weights. L2 regularization is used to penalize large errors. By doing this, we prevent our weights from changing too much, too quickly and overfitting our training sample. I used a L2 \"strength\" of $1E-6$ and found that value in the Amazon Web Services.\n",
    "\n",
    "Model Parameters\n",
    "Epochs: 15\n",
    "Batch size: 128\n",
    "Learning rate: 0.001\n",
    "Truncated normal mean: 0.0\n",
    "Truncated normal standard deviation: 0.1\n",
    "Dropout keep rate: 0.8\n",
    "L2 regularization strength: 1E-6\n",
    "Loss optimization algorithm: Adam\n",
    "\n",
    "All of these values were chosen as \"standard operating procedure\" based off the recommendations given in the coursework. The exception to that is the Adam algorithm. I decided to use Adam instead of stochastic gradient descent. By maintaining a moving average of the gradients, Adam is essentially using the idea of momentum to help the gradient descent avoid local minima. What is results in is a larger step size at the cost of taking up much more memory (there are significantly more parameters to store). The advantages of momentum are discussed in this paper in section 3.1. The paper explicitly states the liklihood that taking momentum into account (i.e. using Adam) may not produce better results for extremely large training samples. Given the size of the sample in this project, I thought it was appropriate to implement.\n"
   ]
  },
  {
   "cell_type": "code",
   "execution_count": 37,
   "metadata": {},
   "outputs": [
    {
     "name": "stdout",
     "output_type": "stream",
     "text": [
      "Tests Passed\n"
     ]
    }
   ],
   "source": [
    "def conv2d_maxpool(x_tensor, conv_num_outputs, conv_ksize, conv_strides, pool_ksize, pool_strides):\n",
    "    \"\"\"\n",
    "    Applying convolution then max pooling to x_tensor\n",
    "    :param x_tensor: TensorFlow Tensor\n",
    "    :param conv_num_outputs: Number of outputs for the convolutional layer\n",
    "    :param conv_ksize: kernal size 2-D Tuple for the convolutional layer\n",
    "    :param conv_strides: Stride 2-D Tuple for convolution\n",
    "    :param pool_ksize: kernal size 2-D Tuple for pool\n",
    "    :param pool_strides: Stride 2-D Tuple for pool\n",
    "    : return: A tensor that represents convolution and max pooling of x_tensor\n",
    "    \"\"\"\n",
    "    # TODO: Implement Function\n",
    "    #print (conv_ksize)\n",
    "    #print(conv_num_outputs)\n",
    "    #print (conv_strides)\n",
    "    #print (pool_ksize)\n",
    "    #print (pool_strides)\n",
    "    #xxx= x_tensor.get_shape()\n",
    "    #print(xxx)\n",
    "    x_shape = (x_tensor.get_shape().as_list())\n",
    "\n",
    "    #print (x_tensor.get_shape().as_list())\n",
    "    weight = tf.Variable(tf.truncated_normal([conv_ksize[0],conv_ksize[1],x_shape[3],conv_num_outputs],mean=0.0, stddev=0.05))\n",
    "    bias = tf.Variable(tf.zeros(conv_num_outputs))\n",
    "\n",
    "    # Apply Convolution(alternative way of putting conv_strides)\n",
    "    conv_layer = tf.nn.conv2d(x_tensor, weight, strides=[1, *conv_strides, 1], padding='SAME')\n",
    "    # Add bias\n",
    "    conv_layer = tf.nn.bias_add(conv_layer, bias)\n",
    "    # Apply activation function\n",
    "    conv_layer = tf.nn.relu(conv_layer)\n",
    "    max_pool_layer = (tf.nn.max_pool(conv_layer,ksize=[1,*pool_ksize,1],strides=[1,pool_strides[0],pool_strides[0],1],padding='SAME'))\n",
    "    \n",
    "    return(max_pool_layer)\n",
    "\n",
    "tests.test_con_pool(conv2d_maxpool)"
   ]
  },
  {
   "cell_type": "markdown",
   "metadata": {},
   "source": [
    "### Flatten Layer\n",
    "Implements the `flatten` function to change the dimension of `x_tensor` from a 4-D tensor to a 2-D tensor.  The output is in the shape (*Batch Size*, *Flattened Image Size*)."
   ]
  },
  {
   "cell_type": "code",
   "execution_count": 38,
   "metadata": {},
   "outputs": [
    {
     "name": "stdout",
     "output_type": "stream",
     "text": [
      "Tests Passed\n"
     ]
    }
   ],
   "source": [
    "def flatten(x_tensor):\n",
    "    \"\"\"\n",
    "    Flattens x_tensor to (Batch Size, Flattened Image Size)\n",
    "    : x_tensor: A tensor of size (Batch Size, ...), where ... are the image dimensions.\n",
    "    : return: A tensor of size (Batch Size, Flattened Image Size).\n",
    "    \"\"\"\n",
    "    # TODO: Implement Function\n",
    "     # TODO: Implement Function\n",
    "    dim = x_tensor.get_shape().as_list()\n",
    "    #print(dim)\n",
    "    x_tensor = tf.reshape(x_tensor, [-1,(dim[1]*dim[2]*dim[3])])   \n",
    "    #print(x_ten.get_shape().as_list())\n",
    "    return(x_tensor)\n",
    "\n",
    "\n",
    "tests.test_flatten(flatten)"
   ]
  },
  {
   "cell_type": "markdown",
   "metadata": {},
   "source": [
    "### Fully-Connected Layer\n"
   ]
  },
  {
   "cell_type": "code",
   "execution_count": 39,
   "metadata": {},
   "outputs": [
    {
     "name": "stdout",
     "output_type": "stream",
     "text": [
      "Tests Passed\n"
     ]
    }
   ],
   "source": [
    "def fully_conn(x_tensor, num_outputs):\n",
    "    \"\"\"\n",
    "    Applying a fully connected layer to x_tensor using weight and bias\n",
    "    : x_tensor: A 2-D tensor where the first dimension is batch size.\n",
    "    : num_outputs: The number of output that the new tensor should be.\n",
    "    : return: A 2-D tensor where the second dimension is num_outputs.\n",
    "    \"\"\"\n",
    "    # TODO: Implement Function\n",
    "    x_shapen = x_tensor.get_shape().as_list()\n",
    "    #print('shape',x_shapen)\n",
    "    #print(num_outputs)\n",
    "    \n",
    "    weightn= tf.Variable(tf.truncated_normal([x_shapen[1], num_outputs],mean=0.0, stddev=0.05))\n",
    "    biasen = tf.Variable(tf.zeros([num_outputs])) \n",
    "    full_layer = tf.add(tf.matmul(x_tensor, weightn), biasen)\n",
    "    full_layer = tf.nn.relu(full_layer)\n",
    "    return(full_layer)\n",
    "\n",
    "\n",
    "\n",
    "tests.test_fully_conn(fully_conn)"
   ]
  },
  {
   "cell_type": "markdown",
   "metadata": {},
   "source": [
    "### Output Layer"
   ]
  },
  {
   "cell_type": "code",
   "execution_count": 40,
   "metadata": {},
   "outputs": [
    {
     "name": "stdout",
     "output_type": "stream",
     "text": [
      "Tests Passed\n"
     ]
    }
   ],
   "source": [
    "def output(x_tensor, num_outputs):\n",
    "    \"\"\"\n",
    "    Applying an output layer to x_tensor using weight and bias\n",
    "    : x_tensor: A 2-D tensor where the first dimension is batch size.\n",
    "    : num_outputs: The number of output that the new tensor should be.\n",
    "    : return: A 2-D tensor where the second dimension is num_outputs.\n",
    "    \"\"\"\n",
    "    # TODO: Implement Function\n",
    "    num_features = tf.placeholder(tf.int32)\n",
    "    x_shapen = x_tensor.get_shape().as_list()\n",
    "    #print('shape',x_shapen)\n",
    "    \n",
    "    weightn= tf.Variable(tf.truncated_normal([x_shapen[1], num_outputs], mean=0.0, stddev=0.05))\n",
    "    biasen = tf.Variable(tf.random_normal([num_outputs])) \n",
    "    out_layer = tf.add(tf.matmul(x_tensor, weightn), biasen)\n",
    "    return(out_layer)\n",
    "\n",
    "tests.test_output(output)"
   ]
  },
  {
   "cell_type": "markdown",
   "metadata": {},
   "source": [
    "### Creating Convolutional Model"
   ]
  },
  {
   "cell_type": "code",
   "execution_count": 49,
   "metadata": {},
   "outputs": [
    {
     "name": "stdout",
     "output_type": "stream",
     "text": [
      "Neural Network Built!\n"
     ]
    }
   ],
   "source": [
    "def conv_net(x, keep_prob):\n",
    " \n",
    "    # TODO: Apply 1, 2, or 3 Convolution and Max Pool layers\n",
    "    \n",
    "    #    Play around with different number of outputs, kernel size and stride\n",
    "    # Function Definition from Above:\n",
    "    #    conv2d_maxpool(x_tensor, conv_num_outputs, conv_ksize, conv_strides, pool_ksize, pool_strides)\n",
    "    conv_num_outputs1 = 64\n",
    "    conv_ksize1 = [5,5]\n",
    "    conv_strides1 = [1,1] \n",
    "    pool_ksize1 = [2,2]\n",
    "    pool_strides1 = [2,2]\n",
    "\n",
    "    # Function Definition from Above:\n",
    "    layer = conv2d_maxpool(x, conv_num_outputs1, conv_ksize1, conv_strides1, pool_ksize1, pool_strides1)\n",
    "    layer = tf.nn.dropout(layer,keep_prob=keep_prob)\n",
    "    #2layer\n",
    "    conv_num_outputs2 = 100\n",
    "    conv_ksize2 = [4,4]\n",
    "    conv_strides2 = [1,1]\n",
    "    pool_ksize2 = [2,2]\n",
    "    pool_strides2 = [2,2]\n",
    "    \n",
    "    # conv2d & maxpool layer\n",
    "    layer = conv2d_maxpool(layer,conv_num_outputs2, conv_ksize2, conv_strides2, pool_ksize2, pool_strides2)\n",
    "\n",
    "    \n",
    "    #3layer\n",
    "    conv_num_outputs3 = 16\n",
    "    conv_ksize3 = [2,2]\n",
    "    conv_strides3 = [1,1]\n",
    "    pool_ksize3 = [2,2]\n",
    "    pool_strides3 = [2,2]\n",
    "    \n",
    "    # conv2d & maxpool layer\n",
    "    layer = conv2d_maxpool(layer,conv_num_outputs3, conv_ksize3, conv_strides3, pool_ksize3, pool_strides3)\n",
    "    layer = tf.nn.dropout(layer,keep_prob=keep_prob)\n",
    "\n",
    "    # TODO: Apply a Flatten Layer\n",
    "    # Function Definition from Above:\n",
    "    flat1 = flatten(layer)\n",
    "    \n",
    "\n",
    "    # TODO: Apply 1, 2, or 3 Fully Connected Layers\n",
    "    #    Play around with different number of outputs\n",
    "    # Function Definition from Above:\n",
    "    for i in range(2):\n",
    "        full_1 = fully_conn(flat1,1000)\n",
    "    \n",
    "    \n",
    "    # TODO: Apply an Output Layer\n",
    "    #    Set this to the number of classes\n",
    "    # Function Definition from Above:\n",
    "    out = output(full_1, 10)\n",
    "    \n",
    "    \n",
    "    # TODO: return output\n",
    "    return (out)\n",
    "   \n",
    "##############################\n",
    "## Building the Neural Network ##\n",
    "##############################\n",
    "\n",
    "# Removing previous weights, bias, inputs, etc..\n",
    "tf.reset_default_graph()\n",
    "\n",
    "# Inputs\n",
    "x = neural_net_image_input((32, 32, 3))\n",
    "y = neural_net_label_input(10)\n",
    "keep_prob = neural_net_keep_prob_input()\n",
    "\n",
    "# Model\n",
    "logits = conv_net(x, keep_prob)\n",
    "\n",
    "# Naming logits Tensor, so that is can be loaded from disk after training\n",
    "logits = tf.identity(logits, name='logits')\n",
    "\n",
    "# Loss and Optimizer\n",
    "cost = tf.reduce_mean(tf.nn.softmax_cross_entropy_with_logits(logits=logits, labels=y))\n",
    "optimizer = tf.train.AdamOptimizer().minimize(cost)\n",
    "\n",
    "# Accuracy\n",
    "correct_pred = tf.equal(tf.argmax(logits, 1), tf.argmax(y, 1))\n",
    "accuracy = tf.reduce_mean(tf.cast(correct_pred, tf.float32), name='accuracy')\n",
    "\n",
    "tests.test_conv_net(conv_net)"
   ]
  },
  {
   "cell_type": "markdown",
   "metadata": {},
   "source": [
    "## Train the Neural Network\n",
    "### Single Optimization\n"
   ]
  },
  {
   "cell_type": "code",
   "execution_count": 50,
   "metadata": {},
   "outputs": [
    {
     "name": "stdout",
     "output_type": "stream",
     "text": [
      "Tests Passed\n"
     ]
    }
   ],
   "source": [
    "def train_neural_network(session, optimizer, keep_probability, feature_batch, label_batch):\n",
    "    \"\"\"\n",
    "    Optimize the session on a batch of images and labels\n",
    "    : session: Current TensorFlow session\n",
    "    : optimizer: TensorFlow optimizer function\n",
    "    : keep_probability: keep probability\n",
    "    : feature_batch: Batch of Numpy image data\n",
    "    : label_batch: Batch of Numpy label data\n",
    "    \"\"\"\n",
    "    # TODO: Implement Function\n",
    "    session.run(optimizer, feed_dict={x:feature_batch, y:label_batch, keep_prob: keep_probability})\n",
    "    pass\n",
    "\n",
    "\n",
    "\n",
    "tests.test_train_nn(train_neural_network)"
   ]
  },
  {
   "cell_type": "code",
   "execution_count": 51,
   "metadata": {
    "collapsed": true
   },
   "outputs": [],
   "source": [
    "def print_stats(session, feature_batch, label_batch, cost, accuracy):\n",
    "    \"\"\"\n",
    "    Print information about loss and validation accuracy\n",
    "    : session: Current TensorFlow session\n",
    "    : feature_batch: Batch of Numpy image data\n",
    "    : label_batch: Batch of Numpy label data\n",
    "    : cost: TensorFlow cost function\n",
    "    : accuracy: TensorFlow accuracy function\n",
    "    \"\"\"\n",
    "    # TODO: Implement Function\n",
    "    loss = session.run(cost, feed_dict={x:feature_batch, y:label_batch, keep_prob:1.0})\n",
    "    val_accuracy = session.run(accuracy, feed_dict={x:valid_features , y:valid_labels, keep_prob:1.0})\n",
    "    print('Loss:', loss)\n",
    "    print('Validation Accuracy:', val_accuracy)\n",
    "    pass"
   ]
  },
  {
   "cell_type": "markdown",
   "metadata": {},
   "source": [
    "### Hyperparameters\n",
    "Tune the following parameters:\n",
    "* Set `epochs` to the number of iterations until the network stops learning or start overfitting\n",
    "* Set `batch_size` to the highest number that your machine has memory for.  Most people set them to common sizes of memory:\n",
    " * 64\n",
    " * 128\n",
    " * 256\n",
    " * ...\n",
    "* Set `keep_probability` to the probability of keeping a node using dropout"
   ]
  },
  {
   "cell_type": "code",
   "execution_count": 52,
   "metadata": {
    "collapsed": true
   },
   "outputs": [],
   "source": [
    "# TODO: Tune Parameters\n",
    "epochs = 15\n",
    "batch_size = 128\n",
    "keep_probability = 0.8"
   ]
  },
  {
   "cell_type": "markdown",
   "metadata": {},
   "source": [
    "### Training on a Single CIFAR-10 Batch\n",
    "Instead of training the neural network on all the CIFAR-10 batches of data, I've used a single batch. This saves time while iteration on the model to get a better accuracy.  Once the final validation accuracy is 50% or greater, the model is run on all the data in the next section."
   ]
  },
  {
   "cell_type": "code",
   "execution_count": 53,
   "metadata": {},
   "outputs": [
    {
     "name": "stdout",
     "output_type": "stream",
     "text": [
      "Checking the Training on a Single Batch...\n",
      "Epoch  1, CIFAR-10 Batch 1:  Loss: 2.03101\n",
      "Validation Accuracy: 0.2986\n",
      "Epoch  2, CIFAR-10 Batch 1:  Loss: 1.85768\n",
      "Validation Accuracy: 0.3642\n",
      "Epoch  3, CIFAR-10 Batch 1:  Loss: 1.69231\n",
      "Validation Accuracy: 0.428\n",
      "Epoch  4, CIFAR-10 Batch 1:  Loss: 1.61021\n",
      "Validation Accuracy: 0.4592\n",
      "Epoch  5, CIFAR-10 Batch 1:  Loss: 1.48637\n",
      "Validation Accuracy: 0.4776\n",
      "Epoch  6, CIFAR-10 Batch 1:  Loss: 1.32357\n",
      "Validation Accuracy: 0.4968\n",
      "Epoch  7, CIFAR-10 Batch 1:  Loss: 1.24206\n",
      "Validation Accuracy: 0.5216\n",
      "Epoch  8, CIFAR-10 Batch 1:  Loss: 1.18865\n",
      "Validation Accuracy: 0.5224\n",
      "Epoch  9, CIFAR-10 Batch 1:  Loss: 1.04969\n",
      "Validation Accuracy: 0.5364\n",
      "Epoch 10, CIFAR-10 Batch 1:  Loss: 0.925635\n",
      "Validation Accuracy: 0.559\n",
      "Epoch 11, CIFAR-10 Batch 1:  Loss: 0.879737\n",
      "Validation Accuracy: 0.54\n",
      "Epoch 12, CIFAR-10 Batch 1:  Loss: 0.719629\n",
      "Validation Accuracy: 0.5648\n",
      "Epoch 13, CIFAR-10 Batch 1:  Loss: 0.680447\n",
      "Validation Accuracy: 0.5664\n",
      "Epoch 14, CIFAR-10 Batch 1:  Loss: 0.587951\n",
      "Validation Accuracy: 0.567\n",
      "Epoch 15, CIFAR-10 Batch 1:  Loss: 0.563779\n",
      "Validation Accuracy: 0.573\n"
     ]
    }
   ],
   "source": [
    "print('Checking the Training on a Single Batch...')\n",
    "with tf.Session() as sess:\n",
    "    # Initializing the variables\n",
    "    sess.run(tf.global_variables_initializer())\n",
    "    \n",
    "    # Training cycle\n",
    "    for epoch in range(epochs):\n",
    "        batch_i = 1\n",
    "        for batch_features, batch_labels in helper.load_preprocess_training_batch(batch_i, batch_size):\n",
    "            train_neural_network(sess, optimizer, keep_probability, batch_features, batch_labels)\n",
    "        print('Epoch {:>2}, CIFAR-10 Batch {}:  '.format(epoch + 1, batch_i), end='')\n",
    "        print_stats(sess, batch_features, batch_labels, cost, accuracy)"
   ]
  },
  {
   "cell_type": "markdown",
   "metadata": {},
   "source": [
    "### Fully Train the Model\n",
    "Now that we've got a good accuracy of 57.3% with a single CIFAR-10 batch, we shall run it with all five batches."
   ]
  },
  {
   "cell_type": "code",
   "execution_count": 54,
   "metadata": {},
   "outputs": [
    {
     "name": "stdout",
     "output_type": "stream",
     "text": [
      "Training...\n",
      "Epoch  1, CIFAR-10 Batch 1:  Loss: 2.09393\n",
      "Validation Accuracy: 0.3154\n",
      "Epoch  1, CIFAR-10 Batch 2:  Loss: 1.69916\n",
      "Validation Accuracy: 0.3914\n",
      "Epoch  1, CIFAR-10 Batch 3:  Loss: 1.47476\n",
      "Validation Accuracy: 0.4316\n",
      "Epoch  1, CIFAR-10 Batch 4:  Loss: 1.48949\n",
      "Validation Accuracy: 0.478\n",
      "Epoch  1, CIFAR-10 Batch 5:  Loss: 1.452\n",
      "Validation Accuracy: 0.4966\n",
      "Epoch  2, CIFAR-10 Batch 1:  Loss: 1.51731\n",
      "Validation Accuracy: 0.512\n",
      "Epoch  2, CIFAR-10 Batch 2:  Loss: 1.24312\n",
      "Validation Accuracy: 0.4884\n",
      "Epoch  2, CIFAR-10 Batch 3:  Loss: 1.03218\n",
      "Validation Accuracy: 0.5512\n",
      "Epoch  2, CIFAR-10 Batch 4:  Loss: 1.13365\n",
      "Validation Accuracy: 0.5654\n",
      "Epoch  2, CIFAR-10 Batch 5:  Loss: 1.26576\n",
      "Validation Accuracy: 0.5712\n",
      "Epoch  3, CIFAR-10 Batch 1:  Loss: 1.15753\n",
      "Validation Accuracy: 0.5608\n",
      "Epoch  3, CIFAR-10 Batch 2:  Loss: 1.01034\n",
      "Validation Accuracy: 0.5534\n",
      "Epoch  3, CIFAR-10 Batch 3:  Loss: 0.898519\n",
      "Validation Accuracy: 0.6022\n",
      "Epoch  3, CIFAR-10 Batch 4:  Loss: 0.93117\n",
      "Validation Accuracy: 0.6124\n",
      "Epoch  3, CIFAR-10 Batch 5:  Loss: 0.9877\n",
      "Validation Accuracy: 0.6192\n",
      "Epoch  4, CIFAR-10 Batch 1:  Loss: 0.980938\n",
      "Validation Accuracy: 0.6084\n",
      "Epoch  4, CIFAR-10 Batch 2:  Loss: 0.875651\n",
      "Validation Accuracy: 0.5854\n",
      "Epoch  4, CIFAR-10 Batch 3:  Loss: 0.742943\n",
      "Validation Accuracy: 0.6242\n",
      "Epoch  4, CIFAR-10 Batch 4:  Loss: 0.759471\n",
      "Validation Accuracy: 0.6216\n",
      "Epoch  4, CIFAR-10 Batch 5:  Loss: 0.828578\n",
      "Validation Accuracy: 0.6498\n",
      "Epoch  5, CIFAR-10 Batch 1:  Loss: 0.851805\n",
      "Validation Accuracy: 0.6396\n",
      "Epoch  5, CIFAR-10 Batch 2:  Loss: 0.803758\n",
      "Validation Accuracy: 0.6328\n",
      "Epoch  5, CIFAR-10 Batch 3:  Loss: 0.574957\n",
      "Validation Accuracy: 0.6694\n",
      "Epoch  5, CIFAR-10 Batch 4:  Loss: 0.679442\n",
      "Validation Accuracy: 0.653\n",
      "Epoch  5, CIFAR-10 Batch 5:  Loss: 0.672743\n",
      "Validation Accuracy: 0.6828\n",
      "Epoch  6, CIFAR-10 Batch 1:  Loss: 0.766231\n",
      "Validation Accuracy: 0.6532\n",
      "Epoch  6, CIFAR-10 Batch 2:  Loss: 0.674108\n",
      "Validation Accuracy: 0.6588\n",
      "Epoch  6, CIFAR-10 Batch 3:  Loss: 0.530139\n",
      "Validation Accuracy: 0.6716\n",
      "Epoch  6, CIFAR-10 Batch 4:  Loss: 0.594804\n",
      "Validation Accuracy: 0.6606\n",
      "Epoch  6, CIFAR-10 Batch 5:  Loss: 0.581678\n",
      "Validation Accuracy: 0.6828\n",
      "Epoch  7, CIFAR-10 Batch 1:  Loss: 0.663496\n",
      "Validation Accuracy: 0.6738\n",
      "Epoch  7, CIFAR-10 Batch 2:  Loss: 0.582003\n",
      "Validation Accuracy: 0.6824\n",
      "Epoch  7, CIFAR-10 Batch 3:  Loss: 0.432727\n",
      "Validation Accuracy: 0.6976\n",
      "Epoch  7, CIFAR-10 Batch 4:  Loss: 0.49291\n",
      "Validation Accuracy: 0.6892\n",
      "Epoch  7, CIFAR-10 Batch 5:  Loss: 0.514646\n",
      "Validation Accuracy: 0.6898\n",
      "Epoch  8, CIFAR-10 Batch 1:  Loss: 0.567248\n",
      "Validation Accuracy: 0.696\n",
      "Epoch  8, CIFAR-10 Batch 2:  Loss: 0.599302\n",
      "Validation Accuracy: 0.695\n",
      "Epoch  8, CIFAR-10 Batch 3:  Loss: 0.33317\n",
      "Validation Accuracy: 0.7082\n",
      "Epoch  8, CIFAR-10 Batch 4:  Loss: 0.393176\n",
      "Validation Accuracy: 0.7118\n",
      "Epoch  8, CIFAR-10 Batch 5:  Loss: 0.434419\n",
      "Validation Accuracy: 0.721\n",
      "Epoch  9, CIFAR-10 Batch 1:  Loss: 0.471017\n",
      "Validation Accuracy: 0.7084\n",
      "Epoch  9, CIFAR-10 Batch 2:  Loss: 0.448165\n",
      "Validation Accuracy: 0.7038\n",
      "Epoch  9, CIFAR-10 Batch 3:  Loss: 0.325091\n",
      "Validation Accuracy: 0.7074\n",
      "Epoch  9, CIFAR-10 Batch 4:  Loss: 0.382152\n",
      "Validation Accuracy: 0.7094\n",
      "Epoch  9, CIFAR-10 Batch 5:  Loss: 0.410369\n",
      "Validation Accuracy: 0.7122\n",
      "Epoch 10, CIFAR-10 Batch 1:  Loss: 0.379921\n",
      "Validation Accuracy: 0.7144\n",
      "Epoch 10, CIFAR-10 Batch 2:  Loss: 0.416924\n",
      "Validation Accuracy: 0.7072\n",
      "Epoch 10, CIFAR-10 Batch 3:  Loss: 0.216144\n",
      "Validation Accuracy: 0.7222\n",
      "Epoch 10, CIFAR-10 Batch 4:  Loss: 0.325991\n",
      "Validation Accuracy: 0.7046\n",
      "Epoch 10, CIFAR-10 Batch 5:  Loss: 0.336967\n",
      "Validation Accuracy: 0.7028\n",
      "Epoch 11, CIFAR-10 Batch 1:  Loss: 0.328511\n",
      "Validation Accuracy: 0.7262\n",
      "Epoch 11, CIFAR-10 Batch 2:  Loss: 0.317599\n",
      "Validation Accuracy: 0.7166\n",
      "Epoch 11, CIFAR-10 Batch 3:  Loss: 0.21966\n",
      "Validation Accuracy: 0.7206\n",
      "Epoch 11, CIFAR-10 Batch 4:  Loss: 0.249552\n",
      "Validation Accuracy: 0.7174\n",
      "Epoch 11, CIFAR-10 Batch 5:  Loss: 0.256154\n",
      "Validation Accuracy: 0.7334\n",
      "Epoch 12, CIFAR-10 Batch 1:  Loss: 0.307243\n",
      "Validation Accuracy: 0.715\n",
      "Epoch 12, CIFAR-10 Batch 2:  Loss: 0.326831\n",
      "Validation Accuracy: 0.721\n",
      "Epoch 12, CIFAR-10 Batch 3:  Loss: 0.202882\n",
      "Validation Accuracy: 0.7326\n",
      "Epoch 12, CIFAR-10 Batch 4:  Loss: 0.20542\n",
      "Validation Accuracy: 0.72\n",
      "Epoch 12, CIFAR-10 Batch 5:  Loss: 0.236807\n",
      "Validation Accuracy: 0.7002\n",
      "Epoch 13, CIFAR-10 Batch 1:  Loss: 0.265411\n",
      "Validation Accuracy: 0.727\n",
      "Epoch 13, CIFAR-10 Batch 2:  Loss: 0.262672\n",
      "Validation Accuracy: 0.7198\n",
      "Epoch 13, CIFAR-10 Batch 3:  Loss: 0.177883\n",
      "Validation Accuracy: 0.7232\n",
      "Epoch 13, CIFAR-10 Batch 4:  Loss: 0.218931\n",
      "Validation Accuracy: 0.7264\n",
      "Epoch 13, CIFAR-10 Batch 5:  Loss: 0.171326\n",
      "Validation Accuracy: 0.7338\n",
      "Epoch 14, CIFAR-10 Batch 1:  Loss: 0.219258\n",
      "Validation Accuracy: 0.725\n",
      "Epoch 14, CIFAR-10 Batch 2:  Loss: 0.2377\n",
      "Validation Accuracy: 0.7244\n",
      "Epoch 14, CIFAR-10 Batch 3:  Loss: 0.130652\n",
      "Validation Accuracy: 0.7406\n",
      "Epoch 14, CIFAR-10 Batch 4:  Loss: 0.188214\n",
      "Validation Accuracy: 0.7368\n",
      "Epoch 14, CIFAR-10 Batch 5:  Loss: 0.191226\n",
      "Validation Accuracy: 0.7252\n",
      "Epoch 15, CIFAR-10 Batch 1:  Loss: 0.196942\n",
      "Validation Accuracy: 0.7266\n",
      "Epoch 15, CIFAR-10 Batch 2:  Loss: 0.172502\n",
      "Validation Accuracy: 0.7292\n",
      "Epoch 15, CIFAR-10 Batch 3:  Loss: 0.12214\n",
      "Validation Accuracy: 0.7216\n",
      "Epoch 15, CIFAR-10 Batch 4:  Loss: 0.217784\n",
      "Validation Accuracy: 0.7232\n",
      "Epoch 15, CIFAR-10 Batch 5:  Loss: 0.168\n",
      "Validation Accuracy: 0.7272\n"
     ]
    }
   ],
   "source": [
    "\n",
    "save_model_path = './image_classification'\n",
    "\n",
    "print('Training...')\n",
    "with tf.Session() as sess:\n",
    "    # Initializing the variables\n",
    "    sess.run(tf.global_variables_initializer())\n",
    "    \n",
    "    # Training cycle\n",
    "    for epoch in range(epochs):\n",
    "        # Loop over all batches\n",
    "        n_batches = 5\n",
    "        for batch_i in range(1, n_batches + 1):\n",
    "            for batch_features, batch_labels in helper.load_preprocess_training_batch(batch_i, batch_size):\n",
    "                train_neural_network(sess, optimizer, keep_probability, batch_features, batch_labels)\n",
    "            print('Epoch {:>2}, CIFAR-10 Batch {}:  '.format(epoch + 1, batch_i), end='')\n",
    "            print_stats(sess, batch_features, batch_labels, cost, accuracy)\n",
    "            \n",
    "    # Save Model\n",
    "    saver = tf.train.Saver()\n",
    "    save_path = saver.save(sess, save_model_path)"
   ]
  },
  {
   "cell_type": "markdown",
   "metadata": {},
   "source": [
    "# Checkpoint\n",
    "The model has been saved to disk.\n",
    "## Test Model"
   ]
  },
  {
   "cell_type": "code",
   "execution_count": 56,
   "metadata": {},
   "outputs": [
    {
     "name": "stdout",
     "output_type": "stream",
     "text": [
      "Testing Accuracy: 0.7193433544303798\n",
      "\n"
     ]
    },
    {
     "data": {
      "image/png": "[encoded data removed]",
      "text/plain": [
       "<matplotlib.figure.Figure at 0x7fac0063d5f8>"
      ]
     },
     "metadata": {
      "image/png": {
       "height": 319,
       "width": 355
      }
     },
     "output_type": "display_data"
    }
   ],
   "source": [
    "%matplotlib inline\n",
    "%config InlineBackend.figure_format = 'retina'\n",
    "\n",
    "import tensorflow as tf\n",
    "import pickle\n",
    "import helper\n",
    "import random\n",
    "\n",
    "# Set batch size if not already set\n",
    "try:\n",
    "    if batch_size:\n",
    "        pass\n",
    "except NameError:\n",
    "    batch_size = 64\n",
    "\n",
    "save_model_path = './image_classification'\n",
    "n_samples = 4\n",
    "top_n_predictions = 3\n",
    "\n",
    "def test_model():\n",
    "    \"\"\"\n",
    "    Test the saved model against the test dataset\n",
    "    \"\"\"\n",
    "\n",
    "    test_features, test_labels = pickle.load(open('preprocess_test.p', mode='rb'))\n",
    "    loaded_graph = tf.Graph()\n",
    "\n",
    "    with tf.Session(graph=loaded_graph) as sess:\n",
    "        # Load model\n",
    "        loader = tf.train.import_meta_graph(save_model_path + '.meta')\n",
    "        loader.restore(sess, save_model_path)\n",
    "\n",
    "        # Get Tensors from loaded model\n",
    "        loaded_x = loaded_graph.get_tensor_by_name('x:0')\n",
    "        loaded_y = loaded_graph.get_tensor_by_name('y:0')\n",
    "        loaded_keep_prob = loaded_graph.get_tensor_by_name('keep_prob:0')\n",
    "        loaded_logits = loaded_graph.get_tensor_by_name('logits:0')\n",
    "        loaded_acc = loaded_graph.get_tensor_by_name('accuracy:0')\n",
    "        \n",
    "        # Get accuracy in batches for memory limitations\n",
    "        test_batch_acc_total = 0\n",
    "        test_batch_count = 0\n",
    "        \n",
    "        for test_feature_batch, test_label_batch in helper.batch_features_labels(test_features, test_labels, batch_size):\n",
    "            test_batch_acc_total += sess.run(\n",
    "                loaded_acc,\n",
    "                feed_dict={loaded_x: test_feature_batch, loaded_y: test_label_batch, loaded_keep_prob: 1.0})\n",
    "            test_batch_count += 1\n",
    "\n",
    "        print('Testing Accuracy: {}\\n'.format(test_batch_acc_total/test_batch_count))\n",
    "\n",
    "        # Print Random Samples\n",
    "        random_test_features, random_test_labels = tuple(zip(*random.sample(list(zip(test_features, test_labels)), n_samples)))\n",
    "        random_test_predictions = sess.run(\n",
    "            tf.nn.top_k(tf.nn.softmax(loaded_logits), top_n_predictions),\n",
    "            feed_dict={loaded_x: random_test_features, loaded_y: random_test_labels, loaded_keep_prob: 1.0})\n",
    "        helper.display_image_predictions(random_test_features, random_test_labels, random_test_predictions)\n",
    "\n",
    "\n",
    "test_model()"
   ]
  },
  {
   "cell_type": "markdown",
   "metadata": {},
   "source": [
    "## Why 50-80% Accuracy?\n",
    "You might be wondering why we can't get an accuracy any higher. First things first, 50% isn't bad for a simple CNN.  Pure guessing would get us 10% accuracy given 10 classes. \n",
    "\n",
    "### How I approached the problem\n",
    "I studied Electrical Engineering in university and am relatively new to programming. As such, I made sure to use code I had already written or had been provided during the coursework. By watching the course videos, reading on Slack, Confluence, and StackOverflow, and a healthy amount of Googling, I was able to successfully debug all of my code. Also, I ended up reading parts of several academic papers in order to understand what the code was actually doing. I found my education in mathematics particularly helpful in understanding the academic language.\n",
    "\n",
    "Something that I was interested in both learning more about and actually implementing in my project was the inception module. It was briefly mentioned as a topic in the coursework, but there was no information about to put the idea into action. Through my research, I found that there are entire architectures built around the inception module using the TensorFlow framework. Most notably GoogLeNet and the Inception-v3. TensorFlow also has Inception-V4 available on GitHub, but I was extremely intimidated by having to use the Slim library in addition to TensorFlow and then further modifying the entire architecture to suit my needs. Ultimately, I used the resources that were readily available to me and added the processes that were mentioned during the coursework, but also included information about exactly how to implement them.\n"
   ]
  }
 ],
 "metadata": {
  "kernelspec": {
   "display_name": "Python 3",
   "language": "python",
   "name": "python3"
  },
  "language_info": {
   "codemirror_mode": {
    "name": "ipython",
    "version": 3
   },
   "file_extension": ".py",
   "mimetype": "text/x-python",
   "name": "python",
   "nbconvert_exporter": "python",
   "pygments_lexer": "ipython3",
   "version": "3.6.1"
  }
 },
 "nbformat": 4,
 "nbformat_minor": 1
}
